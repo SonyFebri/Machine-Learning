{
  "nbformat": 4,
  "nbformat_minor": 0,
  "metadata": {
    "colab": {
      "provenance": [],
      "authorship_tag": "ABX9TyNLjpp+DG8cxfRQopbRR+xb",
      "include_colab_link": true
    },
    "kernelspec": {
      "name": "python3",
      "display_name": "Python 3"
    },
    "language_info": {
      "name": "python"
    }
  },
  "cells": [
    {
      "cell_type": "markdown",
      "metadata": {
        "id": "view-in-github",
        "colab_type": "text"
      },
      "source": [
        "<a href=\"https://colab.research.google.com/github/SonyFebri/Machine-Learning/blob/main/ML1.ipynb\" target=\"_parent\"><img src=\"https://colab.research.google.com/assets/colab-badge.svg\" alt=\"Open In Colab\"/></a>"
      ]
    },
    {
      "cell_type": "code",
      "execution_count": 3,
      "metadata": {
        "colab": {
          "base_uri": "https://localhost:8080/"
        },
        "id": "0LP5KYJse84z",
        "outputId": "bac9eb2a-64d4-4610-d386-68907cea871f"
      },
      "outputs": [
        {
          "output_type": "stream",
          "name": "stdout",
          "text": [
            "[0.0, 0.16666666666666666, 0.3333333333333333, 0.6666666666666666, 1.0]\n"
          ]
        }
      ],
      "source": [
        "def norm_data(data):\n",
        "    \"\"\"\n",
        "    Melakukan normalisasi data.\n",
        "\n",
        "    Parameters:\n",
        "        data (list): Data yang akan dinormalisasi.\n",
        "\n",
        "    Returns:\n",
        "        list: Data hasil normalisasi.\n",
        "    \"\"\"\n",
        "    data_max = max(data)\n",
        "    data_min = min(data)\n",
        "    data_len = len(data)\n",
        "    for i in range(data_len):\n",
        "        data[i] = (data[i] - data_min) / (data_max - data_min)\n",
        "    return data\n",
        "\n",
        "# Contoh Penggunaan\n",
        "data = [10, 11, 12, 14, 16]\n",
        "n_data = norm_data(data)  # melakukan normalisasi\n",
        "print(n_data)\n"
      ]
    },
    {
      "cell_type": "code",
      "source": [
        "import numpy as np\n",
        "from sklearn.preprocessing import MinMaxScaler\n",
        "\n",
        "np.set_printoptions(precision=6)  # Bulatkan ke 4 angka di belakang koma\n",
        "np.set_printoptions(suppress=True)  # Hilangkan notasi eksponensial (e)\n",
        "\n",
        "# Membentuk data sebagai n-dimensional array\n",
        "data = [\n",
        "    [100, 0.0001],\n",
        "    [50, 0.05],\n",
        "    [30, 0.003]\n",
        "]\n",
        "\n",
        "# Ubah ke bentuk numpy n-dimensional array\n",
        "data = np.asarray(data)\n",
        "print('Data Asli')\n",
        "print(data)\n",
        "\n",
        "# Mendefinisikan objek MinMaxScaler\n",
        "scaler = MinMaxScaler()\n",
        "\n",
        "# Transformasikan data\n",
        "scaled = scaler.fit_transform(data)\n",
        "\n",
        "print('Data Normalisasi')\n",
        "print(scaled)\n"
      ],
      "metadata": {
        "colab": {
          "base_uri": "https://localhost:8080/"
        },
        "id": "Cgp9YzJ6f5xP",
        "outputId": "92bb9a0a-6ec8-4ce6-c874-5f5338550ca2"
      },
      "execution_count": 4,
      "outputs": [
        {
          "output_type": "stream",
          "name": "stdout",
          "text": [
            "Data Asli\n",
            "[[100.       0.0001]\n",
            " [ 50.       0.05  ]\n",
            " [ 30.       0.003 ]]\n",
            "Data Normalisasi\n",
            "[[1.       0.      ]\n",
            " [0.285714 1.      ]\n",
            " [0.       0.058116]]\n"
          ]
        }
      ]
    },
    {
      "cell_type": "code",
      "source": [
        "import numpy as np\n",
        "from sklearn.preprocessing import StandardScaler\n",
        "\n",
        "np.set_printoptions(precision=6)  # Bulatkan ke 4 angka di belakang koma\n",
        "np.set_printoptions(suppress=True)  # Hilangkan notasi eksponensial (e)\n",
        "\n",
        "# Membentuk data sebagai n-dimensional array\n",
        "data = [\n",
        "    [100, 0.0001],\n",
        "    [50, 0.05],\n",
        "    [30, 0.003]\n",
        "]\n",
        "\n",
        "# Ubah ke bentuk numpy n-dimensional array\n",
        "data = np.asarray(data)\n",
        "print('Data Asli')\n",
        "print(data)\n",
        "\n",
        "# Mendefinisikan objek MinMaxScaler\n",
        "scaler = StandardScaler()\n",
        "\n",
        "# Transformasikan data\n",
        "scaled = scaler.fit_transform(data)\n",
        "\n",
        "print('Data Standarisasi')\n",
        "print(scaled)\n"
      ],
      "metadata": {
        "colab": {
          "base_uri": "https://localhost:8080/"
        },
        "id": "UML8EFKbgnoX",
        "outputId": "6257df77-4ee4-400d-d2d2-2393c193eb09"
      },
      "execution_count": 7,
      "outputs": [
        {
          "output_type": "stream",
          "name": "stdout",
          "text": [
            "Data Asli\n",
            "[[100.       0.0001]\n",
            " [ 50.       0.05  ]\n",
            " [ 30.       0.003 ]]\n",
            "Data Standarisasi\n",
            "[[ 1.358732 -0.76956 ]\n",
            " [-0.339683  1.412317]\n",
            " [-1.019049 -0.642757]]\n"
          ]
        }
      ]
    },
    {
      "cell_type": "code",
      "source": [
        "from sklearn.preprocessing import OrdinalEncoder\n",
        "\n",
        "# Inisiasi objek Ordinal Encoder\n",
        "oe = OrdinalEncoder()\n",
        "\n",
        "# Definisikan data dalam bentuk 2D\n",
        "data = [\n",
        "    ['Politeknik Negeri Malang'],\n",
        "    ['Politeknik Elektronika Negeri Surabaya'],\n",
        "    ['Politeknik Negeri Jakarta'],\n",
        "    ['Politeknik Negeri Semarang']\n",
        "]\n",
        "\n",
        "# Transformasi menggunakan Ordinal Encoder\n",
        "transform_oe = oe.fit_transform(data)\n",
        "\n",
        "print('Data Asli')\n",
        "print(data)\n",
        "\n",
        "print('Data Transformasi Ordinal Encoder')\n",
        "print(transform_oe)\n"
      ],
      "metadata": {
        "colab": {
          "base_uri": "https://localhost:8080/"
        },
        "id": "ZW3A1ulRhQLe",
        "outputId": "dac90232-2e84-47b5-9961-5f09adee1faf"
      },
      "execution_count": 8,
      "outputs": [
        {
          "output_type": "stream",
          "name": "stdout",
          "text": [
            "Data Asli\n",
            "[['Politeknik Negeri Malang'], ['Politeknik Elektronika Negeri Surabaya'], ['Politeknik Negeri Jakarta'], ['Politeknik Negeri Semarang']]\n",
            "Data Transformasi Ordinal Encoder\n",
            "[[2.]\n",
            " [0.]\n",
            " [1.]\n",
            " [3.]]\n"
          ]
        }
      ]
    },
    {
      "cell_type": "code",
      "source": [
        "from sklearn.preprocessing import OneHotEncoder\n",
        "\n",
        "# Inisiasi objek Ordinal Encoder\n",
        "ohe = OneHotEncoder()\n",
        "\n",
        "# Definisikan data dalam bentuk 2D\n",
        "data = [\n",
        "    ['Politeknik Negeri Malang'],\n",
        "    ['Politeknik Elektronika Negeri Surabaya'],\n",
        "    ['Politeknik Negeri Jakarta'],\n",
        "    ['Politeknik Negeri Semarang']\n",
        "]\n",
        "\n",
        "# Transformasi menggunakan Ordinal Encoder\n",
        "transform_ohe = ohe.fit_transform(data)\n",
        "\n",
        "print('Data Asli')\n",
        "print(data)\n",
        "\n",
        "print('Data Transformasi One-Hot Encoding')\n",
        "print(transform_ohe.toarray())\n"
      ],
      "metadata": {
        "colab": {
          "base_uri": "https://localhost:8080/"
        },
        "id": "ZASFFaUlhbkc",
        "outputId": "6adecdd9-d67b-4e61-e4d3-2bf7d6f06763"
      },
      "execution_count": 11,
      "outputs": [
        {
          "output_type": "stream",
          "name": "stdout",
          "text": [
            "Data Asli\n",
            "[['Politeknik Negeri Malang'], ['Politeknik Elektronika Negeri Surabaya'], ['Politeknik Negeri Jakarta'], ['Politeknik Negeri Semarang']]\n",
            "Data Transformasi One-Hot Encoding\n",
            "[[0. 0. 1. 0.]\n",
            " [1. 0. 0. 0.]\n",
            " [0. 1. 0. 0.]\n",
            " [0. 0. 0. 1.]]\n"
          ]
        }
      ]
    },
    {
      "cell_type": "code",
      "source": [
        "from sklearn.preprocessing import OneHotEncoder\n",
        "\n",
        "# Inisiasi objek Ordinal Encoder\n",
        "de = OneHotEncoder(drop='first')\n",
        "\n",
        "# Definisikan data dalam bentuk 2D\n",
        "data = [\n",
        "    ['Politeknik Negeri Malang'],\n",
        "    ['Politeknik Elektronika Negeri Surabaya'],\n",
        "    ['Politeknik Negeri Jakarta'],\n",
        "    ['Politeknik Negeri Semarang']\n",
        "]\n",
        "\n",
        "# Transformasi menggunakan Ordinal Encoder\n",
        "transform_de = de.fit_transform(data)\n",
        "\n",
        "print('Data Asli')\n",
        "print(data)\n",
        "\n",
        "print('Data Transformasi One-Hot Encoding')\n",
        "print(transform_de.toarray())\n"
      ],
      "metadata": {
        "colab": {
          "base_uri": "https://localhost:8080/"
        },
        "id": "dsBJgfjMiAVZ",
        "outputId": "24a969ad-7baa-4ee0-c9c5-42cd2135175c"
      },
      "execution_count": 13,
      "outputs": [
        {
          "output_type": "stream",
          "name": "stdout",
          "text": [
            "Data Asli\n",
            "[['Politeknik Negeri Malang'], ['Politeknik Elektronika Negeri Surabaya'], ['Politeknik Negeri Jakarta'], ['Politeknik Negeri Semarang']]\n",
            "Data Transformasi One-Hot Encoding\n",
            "[[0. 1. 0.]\n",
            " [0. 0. 0.]\n",
            " [1. 0. 0.]\n",
            " [0. 0. 1.]]\n"
          ]
        }
      ]
    },
    {
      "cell_type": "markdown",
      "source": [
        "Studi Kasus"
      ],
      "metadata": {
        "id": "_ogwW8kNicGf"
      }
    },
    {
      "cell_type": "code",
      "source": [
        "corpus = [\n",
        "  'the house had a tiny little mouse', 'the cat saw the mouse',\n",
        "  'the mouse ran away from the house',\n",
        "  'the cat finally ate the mouse',\n",
        "  'the end of the mouse story'\n",
        "]"
      ],
      "metadata": {
        "id": "6nvytWvAieV5"
      },
      "execution_count": 16,
      "outputs": []
    },
    {
      "cell_type": "code",
      "source": [
        "from sklearn.feature_extraction.text import TfidfVectorizer\n",
        "\n",
        "# Inisiasi objek TfidfVectorizer dengan menghilangkan stop words bahasa Inggris\n",
        "vect = TfidfVectorizer(stop_words='english')\n",
        "\n",
        "# Pembobotan TF-IDF\n",
        "resp = vect.fit_transform(corpus)\n",
        "\n",
        "# Cetak hasil TF-IDF\n",
        "print('TF-IDF')\n",
        "print(resp)\n",
        "\n",
        "#hasil token\n",
        "print('Token')\n",
        "print(vect.get_feature_names_out())"
      ],
      "metadata": {
        "colab": {
          "base_uri": "https://localhost:8080/"
        },
        "id": "EDdTCOqVjmLP",
        "outputId": "ae19ca41-c3bb-4331-886a-7451b3028dcd"
      },
      "execution_count": 29,
      "outputs": [
        {
          "output_type": "stream",
          "name": "stdout",
          "text": [
            "TF-IDF\n",
            "  (0, 7)\t0.2808823162882302\n",
            "  (0, 6)\t0.5894630806320427\n",
            "  (0, 11)\t0.5894630806320427\n",
            "  (0, 5)\t0.47557510189256375\n",
            "  (1, 9)\t0.7297183669435993\n",
            "  (1, 2)\t0.5887321837696324\n",
            "  (1, 7)\t0.3477147117091919\n",
            "  (2, 1)\t0.5894630806320427\n",
            "  (2, 8)\t0.5894630806320427\n",
            "  (2, 7)\t0.2808823162882302\n",
            "  (2, 5)\t0.47557510189256375\n",
            "  (3, 0)\t0.5894630806320427\n",
            "  (3, 4)\t0.5894630806320427\n",
            "  (3, 2)\t0.47557510189256375\n",
            "  (3, 7)\t0.2808823162882302\n",
            "  (4, 10)\t0.6700917930430479\n",
            "  (4, 3)\t0.6700917930430479\n",
            "  (4, 7)\t0.3193023297639811\n",
            "Token\n",
            "['ate' 'away' 'cat' 'end' 'finally' 'house' 'little' 'mouse' 'ran' 'saw'\n",
            " 'story' 'tiny']\n"
          ]
        }
      ]
    },
    {
      "cell_type": "code",
      "source": [
        "from sklearn.feature_extraction.text import TfidfVectorizer\n",
        "\n",
        "# Membaca isi file corpus.txt\n",
        "with open('corpus.txt', 'r') as file:\n",
        "    corpus = file.readlines()\n",
        "\n",
        "# Inisiasi objek TfidfVectorizer dengan menghilangkan stop words bahasa Inggris\n",
        "hasil = TfidfVectorizer(stop_words='english')\n",
        "\n",
        "# Pembobotan TF-IDF menggunakan teks dari file corpus.txt\n",
        "resp = hasil.fit_transform(corpus)\n",
        "\n",
        "# Cetak hasil\n",
        "print('TF-IDF:')\n",
        "print(resp.toarray())\n",
        "\n",
        "# Menampilkan fitur (kata) yang diekstrak\n",
        "print('Features:')\n",
        "print(hasil.get_feature_names_out())"
      ],
      "metadata": {
        "colab": {
          "base_uri": "https://localhost:8080/"
        },
        "id": "Qgtfi-j9l2xD",
        "outputId": "ba0df7f6-c008-4b52-e61b-3c2db77d93e1"
      },
      "execution_count": 30,
      "outputs": [
        {
          "output_type": "stream",
          "name": "stdout",
          "text": [
            "TF-IDF:\n",
            "[[0.       0.       0.       0.       0.       0.475575 0.589463 0.280882\n",
            "  0.       0.       0.       0.589463]\n",
            " [0.       0.       0.588732 0.       0.       0.       0.       0.347715\n",
            "  0.       0.729718 0.       0.      ]\n",
            " [0.       0.589463 0.       0.       0.       0.475575 0.       0.280882\n",
            "  0.589463 0.       0.       0.      ]\n",
            " [0.589463 0.       0.475575 0.       0.589463 0.       0.       0.280882\n",
            "  0.       0.       0.       0.      ]\n",
            " [0.       0.       0.       0.670092 0.       0.       0.       0.319302\n",
            "  0.       0.       0.670092 0.      ]]\n",
            "Features:\n",
            "['ate' 'away' 'cat' 'end' 'finally' 'house' 'little' 'mouse' 'ran' 'saw'\n",
            " 'story' 'tiny']\n"
          ]
        }
      ]
    }
  ]
}